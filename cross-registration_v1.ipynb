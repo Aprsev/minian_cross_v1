{
 "cells": [
  {
   "cell_type": "markdown",
   "metadata": {},
   "source": [
    "# Setting Up"
   ]
  },
  {
   "cell_type": "markdown",
   "metadata": {},
   "source": [
    "Cross-registration allows the user to register the outcomes of the MiniAn pipeline across multiple experimental sessions.\n",
    "It is a useful add-on to deal with longitudinal experiments. "
   ]
  },
  {
   "cell_type": "markdown",
   "metadata": {},
   "source": [
    "## specify directories and dataset patterns"
   ]
  },
  {
   "cell_type": "markdown",
   "metadata": {},
   "source": [
    "For cross-registration to work, we need to have existing datasets with proper metadata.\n",
    "At the minimum, a dimension `session` should exists on all the datasets.\n",
    "Each dataset can either be a directory of `zarr` arrays (the default output format of `save_minian`), or a single file saved by users.\n",
    "Each dataset should reside in its own directory.\n",
    "\n",
    "Details on the parameters:\n",
    "\n",
    "* `minian_path` points to the path of minian package, which by default is the current folder.\n",
    "* `dpath` is the path containing all the datasets.\n",
    "    It will be traversed recursively to search for datasets.\n",
    "* `f_pattern` is the directory/file name pattern of each dataset.\n",
    "    The program will attempt to load all directories/files matching `f_pattern` under `dpath`.\n",
    "    Note that here our demo data are `netcdf` files that are manually saved.\n",
    "    For the default minian dataset format (directory of `zarr` arrays), `f_pattern = r\"minian$\"` should suffice.\n",
    "* `id_dims` is the name of dimensions that can uniquely identify each dataset.\n",
    "    It should at least contain a `\"session\"` dimension."
   ]
  },
  {
   "cell_type": "code",
   "execution_count": 37,
   "metadata": {},
   "outputs": [],
   "source": [
    "minian_path = \".\"\n",
    "dpath = \"D:\\Desktop\\ZJU\\\\bme\\\\bme_com\\minian-master\\minian-master_v0\\demo_data\"\n",
    "f_pattern = r\"minian.nc$\"\n",
    "id_dims = [\"session\"]"
   ]
  },
  {
   "cell_type": "markdown",
   "metadata": {},
   "source": [
    "## specify parameters"
   ]
  },
  {
   "cell_type": "markdown",
   "metadata": {},
   "source": [
    "`param_dist` defines the maximal distance between cell centroids (in pixel units) on different sessions to consider them as the same cell.\n",
    "`output_size` controls the scale of visualizations."
   ]
  },
  {
   "cell_type": "code",
   "execution_count": 38,
   "metadata": {},
   "outputs": [],
   "source": [
    "param_dist = 5\n",
    "output_size = 100"
   ]
  },
  {
   "cell_type": "markdown",
   "metadata": {},
   "source": [
    "## load modules"
   ]
  },
  {
   "cell_type": "code",
   "execution_count": null,
   "metadata": {},
   "outputs": [],
   "source": [
    "%%capture\n",
    "%load_ext autoreload\n",
    "%autoreload 2\n",
    "import os\n",
    "import sys\n",
    "import warnings\n",
    "import itertools as itt\n",
    "import numpy as np\n",
    "import xarray as xr\n",
    "import holoviews as hv\n",
    "import pandas as pd\n",
    "from holoviews.operation.datashader import datashade, regrid\n",
    "from dask.diagnostics import ProgressBar\n",
    "sys.path.append(minian_path)\n",
    "from minian.cross_registration import (calculate_centroids, calculate_centroid_distance, calculate_mapping,\n",
    "                                       group_by_session, resolve_mapping, fill_mapping)\n",
    "from minian.motion_correction import estimate_motion, apply_transform\n",
    "from minian.utilities import open_minian, open_minian_mf\n",
    "from minian.visualization import AlignViewer\n",
    "import ipywidgets as widgets\n",
    "from IPython.display import display, clear_output\n",
    "import matplotlib.pyplot as plt"
   ]
  },
  {
   "cell_type": "markdown",
   "metadata": {},
   "source": [
    "## module initialization"
   ]
  },
  {
   "cell_type": "code",
   "execution_count": null,
   "metadata": {},
   "outputs": [],
   "source": [
    "hv.notebook_extension('bokeh', width=100)\n",
    "pbar = ProgressBar(minimum=2)\n",
    "pbar.register()"
   ]
  },
  {
   "cell_type": "markdown",
   "metadata": {},
   "source": [
    "# Allign Videos"
   ]
  },
  {
   "cell_type": "markdown",
   "metadata": {},
   "source": [
    "## open datasets"
   ]
  },
  {
   "cell_type": "markdown",
   "metadata": {},
   "source": [
    "All the metadata defined in `id_dims` will be printed out for each dataset.\n",
    "It is important to make sure all the metadata are correct, otherwise you may get unexpected results.\n",
    "If metadata was not saved correctly, consider putting the datasets into correct hierarchical directory structures and use the `post_process` argument of `open_minian_mf` to correct for metadata.\n",
    "See the main `pipeline.ipynb` and [API reference](https://minian.readthedocs.io/page/api/minian.utilities.html#minian-utilities-open_minian_mf) for more detail."
   ]
  },
  {
   "cell_type": "code",
   "execution_count": null,
   "metadata": {},
   "outputs": [],
   "source": [
    "dpath_1 = os.path.join(dpath, \"OFT\")\n",
    "dpath_2 = os.path.join(dpath, \"TST\")\n",
    "folder_path_1 = os.path.join(dpath, \"sum\\OFT\")\n",
    "folder_path_2 = os.path.join(dpath, \"sum\\TST\")"
   ]
  },
  {
   "cell_type": "code",
   "execution_count": null,
   "metadata": {},
   "outputs": [],
   "source": [
    "# minian_ds_1 = open_minian(dpath_1+'\\minian')\n",
    "# minian_ds_2 = open_minian(dpath_2+'\\minian')\n",
    "# print(minian_ds_1)"
   ]
  },
  {
   "cell_type": "code",
   "execution_count": null,
   "metadata": {},
   "outputs": [],
   "source": [
    "# # 使用 np.char.add 进行字符串拼接\n",
    "# minian_ds_1.coords['session'] = minian_ds_1.coords['session'].values.astype(str)\n",
    "# # minian_ds_1.coords['session'] = minian_ds_1.coords['session'].values.astype(str)\n",
    "# # 使用 np.char.add 进行字符串拼接\n",
    "# minian_ds_2.coords['session'] = minian_ds_2.coords['session'].values.astype(str)\n",
    "# # minian_ds_2.coords['session'] = minian_ds_2.coords['session'].values.astype(str)\n",
    "# # 创建文件夹\n",
    "\n",
    "# os.makedirs(folder_path_1,exist_ok=True)  # 如果文件夹已存在，会抛出异常\n",
    "# os.makedirs(folder_path_2,exist_ok=True)  # 如果文件夹已存在，会抛出异常\n",
    "\n",
    "\n",
    "# minian_ds_1.to_netcdf(folder_path_1+\"\\minian.nc\")\n",
    "# minian_ds_2.to_netcdf(folder_path_2+\"\\minian.nc\")"
   ]
  },
  {
   "cell_type": "code",
   "execution_count": null,
   "metadata": {},
   "outputs": [],
   "source": [
    "minian_ds = open_minian_mf(\n",
    "    dpath, id_dims, pattern=f_pattern)"
   ]
  },
  {
   "cell_type": "code",
   "execution_count": null,
   "metadata": {},
   "outputs": [],
   "source": [
    "minian_ds"
   ]
  },
  {
   "cell_type": "markdown",
   "metadata": {},
   "source": [
    "## estimate shifts"
   ]
  },
  {
   "cell_type": "markdown",
   "metadata": {},
   "source": [
    "Here we estimate a translational shift along the `session` dimension using the max projection for each dataset.\n",
    "We combine the `shifts`, original templates `temps`, and shifted templates `temps_sh` into a single dataset `shiftds` to use later."
   ]
  },
  {
   "cell_type": "code",
   "execution_count": null,
   "metadata": {},
   "outputs": [],
   "source": [
    "%%time\n",
    "temps = minian_ds['max_proj'].rename('temps')\n",
    "shifts = estimate_motion(temps, dim='session').compute().rename('shifts')\n",
    "temps_sh = apply_transform(temps, shifts).compute().rename('temps_shifted')\n",
    "shiftds = xr.merge([temps, shifts, temps_sh])"
   ]
  },
  {
   "cell_type": "markdown",
   "metadata": {},
   "source": [
    "## visualize alignment"
   ]
  },
  {
   "cell_type": "markdown",
   "metadata": {},
   "source": [
    "We visualize alignment of sessions by plotting the templates before and after the shift for each session."
   ]
  },
  {
   "cell_type": "code",
   "execution_count": null,
   "metadata": {},
   "outputs": [],
   "source": [
    "hv.output(size=int(output_size * 0.6))\n",
    "opts_im = {\n",
    "    'aspect': shiftds.sizes['width'] / shiftds.sizes['height'],\n",
    "    'frame_width': 500, 'cmap': 'viridis'}\n",
    "hv_temps = (hv.Dataset(temps).to(hv.Image, kdims=['width', 'height'])\n",
    "            .opts(**opts_im).layout('session').cols(1))\n",
    "hv_temps_sh = (hv.Dataset(temps_sh).to(hv.Image, kdims=['width', 'height'])\n",
    "            .opts(**opts_im).layout('session').cols(1))\n",
    "display(hv_temps + hv_temps_sh)"
   ]
  },
  {
   "cell_type": "markdown",
   "metadata": {},
   "source": [
    "## visualize overlap of field of view across all sessions"
   ]
  },
  {
   "cell_type": "markdown",
   "metadata": {},
   "source": [
    "Since only pixels that are common across all sessions are considered, it is important to sanity-check that this overlap window capture most of our cells."
   ]
  },
  {
   "cell_type": "code",
   "execution_count": null,
   "metadata": {},
   "outputs": [],
   "source": [
    "hv.output(size=int(output_size * 0.6))\n",
    "opts_im = {\n",
    "    'aspect': shiftds.sizes['width'] / shiftds.sizes['height'],\n",
    "    'frame_width': 500, 'cmap': 'viridis'}\n",
    "window = shiftds['temps_shifted'].isnull().sum('session')\n",
    "window, _ = xr.broadcast(window, shiftds['temps_shifted'])\n",
    "hv_wnd = hv.Dataset(window).to(hv.Image, ['width', 'height'])\n",
    "hv_temps = hv.Dataset(temps_sh).to(hv.Image, ['width', 'height'])\n",
    "hv_wnd.opts(**opts_im).relabel(\"Window\") + hv_temps.opts(**opts_im).relabel(\"Shifted Templates\")"
   ]
  },
  {
   "cell_type": "markdown",
   "metadata": {},
   "source": [
    "## apply shifts and set window"
   ]
  },
  {
   "cell_type": "markdown",
   "metadata": {},
   "source": [
    "If the shifts and overlaps all look good, we commit by applying them to the spatial footprints of each session."
   ]
  },
  {
   "cell_type": "code",
   "execution_count": null,
   "metadata": {},
   "outputs": [],
   "source": [
    "A_shifted = apply_transform(minian_ds['A'].chunk(dict(height=-1, width=-1)), shiftds['shifts'])"
   ]
  },
  {
   "cell_type": "code",
   "execution_count": null,
   "metadata": {},
   "outputs": [],
   "source": [
    "def set_window(wnd):\n",
    "    return wnd == wnd.min()\n",
    "window = xr.apply_ufunc(\n",
    "    set_window,\n",
    "    window,\n",
    "    input_core_dims=[['height', 'width']],\n",
    "    output_core_dims=[['height', 'width']],\n",
    "    vectorize=True)"
   ]
  },
  {
   "cell_type": "markdown",
   "metadata": {},
   "source": [
    "# Cross-session registration"
   ]
  },
  {
   "cell_type": "markdown",
   "metadata": {},
   "source": [
    "## calculate centroids"
   ]
  },
  {
   "cell_type": "markdown",
   "metadata": {},
   "source": [
    "We start by calculating a centroid of spatial footprint for each cell.\n",
    "The centroid location is the only source of information used to register cells across sessions."
   ]
  },
  {
   "cell_type": "code",
   "execution_count": null,
   "metadata": {},
   "outputs": [],
   "source": [
    "%%time\n",
    "cents = calculate_centroids(A_shifted, window)"
   ]
  },
  {
   "cell_type": "markdown",
   "metadata": {},
   "source": [
    "## calculate centroid distance"
   ]
  },
  {
   "cell_type": "markdown",
   "metadata": {},
   "source": [
    "We then calculate pairwise distance between cells in all pairs of sessions.\n",
    "Note that at this stage, since we are computing something along the `session` dimension, it is no longer considered as a metadata dimension, so we remove it."
   ]
  },
  {
   "cell_type": "code",
   "execution_count": null,
   "metadata": {},
   "outputs": [],
   "source": [
    "%%time\n",
    "id_dims.remove(\"session\")\n",
    "dist = calculate_centroid_distance(cents, index_dim=id_dims)"
   ]
  },
  {
   "cell_type": "markdown",
   "metadata": {},
   "source": [
    "## threshold centroid distances"
   ]
  },
  {
   "cell_type": "markdown",
   "metadata": {},
   "source": [
    "We threshold the centroid distances and keep only cell pairs with distance less than `param_dist`."
   ]
  },
  {
   "cell_type": "code",
   "execution_count": null,
   "metadata": {},
   "outputs": [],
   "source": [
    "dist_ft = dist[dist['variable', 'distance'] < param_dist].copy()\n",
    "dist_ft = group_by_session(dist_ft)"
   ]
  },
  {
   "cell_type": "markdown",
   "metadata": {},
   "source": [
    "## generate mappings"
   ]
  },
  {
   "cell_type": "markdown",
   "metadata": {},
   "source": [
    "Finally we generate mapping of cells across session in three steps:\n",
    "\n",
    "1. We filter the pairwise distances into pairwise mappings by applying a mutual nearest-neighbour criteria, using `calculate_mapping`.\n",
    "1. We extend/merge pairwise mappings into multi-session mappings and drop any conficting mappings, using `resolve_mapping`.\n",
    "1. We fill in \"mappings\" that represent cells only appeared in single sessions, using `fill_mapping`.\n",
    "\n",
    "Please see the [API reference](https://minian.readthedocs.io/page/api/minian.cross_registration.html) for more detail on the output dataframe format."
   ]
  },
  {
   "cell_type": "code",
   "execution_count": null,
   "metadata": {},
   "outputs": [],
   "source": [
    "%%time\n",
    "mappings = calculate_mapping(dist_ft)\n",
    "mappings_meta = resolve_mapping(mappings)\n",
    "mappings_meta_fill = fill_mapping(mappings_meta, cents)\n",
    "mappings_meta_fill.head()"
   ]
  },
  {
   "cell_type": "markdown",
   "metadata": {},
   "source": [
    "## visualize mappings"
   ]
  },
  {
   "cell_type": "markdown",
   "metadata": {},
   "source": [
    "We visualize the matching of cells by color-mapping cells 3 arbitrary sessions into RGB channels and plot the overlay image.\n",
    "Please see [API reference](https://minian.readthedocs.io/page/api/minian.visualization.html#minian-visualization-AlignViewer) for more details on the tools available in this visualization."
   ]
  },
  {
   "cell_type": "code",
   "execution_count": null,
   "metadata": {},
   "outputs": [],
   "source": [
    "hv.output(size=int(output_size * 0.7))\n",
    "alnviewer = AlignViewer(minian_ds, cents, mappings_meta_fill, shiftds)\n",
    "alnviewer.show()"
   ]
  },
  {
   "cell_type": "markdown",
   "metadata": {},
   "source": [
    "## save results"
   ]
  },
  {
   "cell_type": "markdown",
   "metadata": {},
   "source": [
    "If everything looks good, we commit by saving the mappings into `pickle` file.\n",
    "Optionally we also save centroids `cents` and `shiftds` in case they come in handy in down-stream analysis."
   ]
  },
  {
   "cell_type": "code",
   "execution_count": null,
   "metadata": {},
   "outputs": [],
   "source": [
    "mappings_meta_fill.to_pickle(os.path.join(dpath, \"mappings.pkl\"))\n",
    "cents.to_pickle(os.path.join(dpath, \"cents.pkl\"))\n",
    "shiftds.to_netcdf(os.path.join(dpath, \"shiftds.nc\"))"
   ]
  },
  {
   "cell_type": "markdown",
   "metadata": {},
   "source": [
    "### save them as csv file"
   ]
  },
  {
   "cell_type": "code",
   "execution_count": null,
   "metadata": {},
   "outputs": [],
   "source": [
    "if isinstance(mappings_meta_fill, pd.DataFrame):\n",
    "    mappings_meta_fill.to_csv(os.path.join(dpath, \"mappings.csv\"), index=False)\n",
    "    print(f\"mappings_meta_fill 已保存为 {os.path.join(dpath, 'mappings.csv')}\")\n",
    "else:\n",
    "    print(\"mappings_meta_fill 不是 Pandas DataFrame，无法直接保存为 CSV。请检查其类型。\")\n",
    "\n",
    "# 2. 保存 cents 为 CSV\n",
    "# 确保 cents 是一个 DataFrame 或 Series\n",
    "if isinstance(cents, pd.DataFrame) or isinstance(cents, pd.Series):\n",
    "    cents.to_csv(os.path.join(dpath, \"cents.csv\"), index=False)\n",
    "    print(f\"cents 已保存为 {os.path.join(dpath, 'cents.csv')}\")\n",
    "else:\n",
    "    print(\"cents 不是 Pandas DataFrame 或 Series，无法直接保存为 CSV。请检查其类型。\")\n",
    "\n",
    "# 3. 保存 shiftds 为 CSV\n",
    "# shiftds 是一个 xarray Dataset。直接保存为 CSV 不合适。\n",
    "# 如果你确实需要保存其数据到 CSV，你需要将其转换为 Pandas DataFrame。\n",
    "# 转换方法取决于 shiftds 的结构和你想在 CSV 中保留哪些数据。\n",
    "# 例如，如果你想保存所有变量为表格：\n",
    "if isinstance(shiftds, xr.Dataset):\n",
    "    try:\n",
    "        shiftds_df = shiftds.to_dataframe()\n",
    "        shiftds_df.to_csv(os.path.join(dpath, \"shiftds.csv\"), index=True) # index=True 如果你的坐标是索引\n",
    "        print(f\"shiftds 已转换为 DataFrame 并保存为 {os.path.join(dpath, 'shiftds.csv')}\")\n",
    "    except Exception as e:\n",
    "        print(f\"无法将 shiftds (xarray Dataset) 转换为 DataFrame 并保存为 CSV: {e}\")\n",
    "        print(\"请检查 shiftds 的结构，以确定如何将其扁平化为表格格式。\")\n",
    "else:\n",
    "    print(\"shiftds 不是 xarray Dataset，无法使用此方法处理。\")"
   ]
  },
  {
   "cell_type": "code",
   "execution_count": null,
   "metadata": {},
   "outputs": [],
   "source": [
    "mappings.to_csv(os.path.join(dpath, 'mappings.csv'))"
   ]
  },
  {
   "cell_type": "markdown",
   "metadata": {},
   "source": [
    "# furtther code for analysis"
   ]
  },
  {
   "cell_type": "markdown",
   "metadata": {},
   "source": [
    "## load data"
   ]
  },
  {
   "cell_type": "code",
   "execution_count": null,
   "metadata": {},
   "outputs": [],
   "source": [
    "# # Open mappings.csv\n",
    "# mappings_df = pd.read_csv(os.path.join(dpath,'Pre_sum\\\\mappings.csv'))\n",
    "# print(\"First 5 rows of mappings.csv:\")\n",
    "# print(mappings_df.head())\n",
    "\n",
    "# print(\"-\" * 30)\n",
    "\n",
    "# Open cents.csv\n",
    "cents_df = pd.read_csv(os.path.join(dpath,'cents.csv'))\n",
    "print(\"First 5 rows of cents.csv:\")\n",
    "print(cents_df.head())\n",
    "\n",
    "# print(\"-\" * 30)\n",
    "\n",
    "# # Open shiftds.csv\n",
    "# shiftds_df = pd.read_csv(os.path.join(dpath,'shiftds.csv'))\n",
    "# print(\"First 5 rows of shiftds.csv:\")\n",
    "# print(shiftds_df.head())"
   ]
  },
  {
   "cell_type": "code",
   "execution_count": null,
   "metadata": {},
   "outputs": [],
   "source": [
    "# print(\"当前 mappings_df 的列名：\")\n",
    "# print(mappings_df.columns)\n",
    "\n",
    "# print(\"/n当前 mappings_df 的前5行数据：\")\n",
    "# print(mappings_df.head())"
   ]
  },
  {
   "cell_type": "code",
   "execution_count": null,
   "metadata": {},
   "outputs": [],
   "source": [
    "from minian_plot_method.yra_c import calculate_yrc_std_and_save_separately\n",
    "\n",
    "yra_csv_path1 = os.path.join(dpath, 'OFT', 'save_result','YrA.csv')\n",
    "yrc_csv_path1 = os.path.join(dpath, 'OFT', 'save_result','C.csv')\n",
    "output_csv_path1 = os.path.join(dpath, 'OFT', 'save_result','YrA-C_Std.csv')\n",
    "\n",
    "yra_csv_path2 = os.path.join(dpath, 'TST', 'save_result','YrA.csv')\n",
    "yrc_csv_path2 = os.path.join(dpath, 'TST', 'save_result','C.csv')\n",
    "output_csv_path2 = os.path.join(dpath, 'TST', 'save_result','YrA-C_Std.csv')\n",
    "\n",
    "calculate_yrc_std_and_save_separately(\n",
    "    yra_csv_path1=yra_csv_path1,\n",
    "    c_csv_path1=yrc_csv_path1,\n",
    "    output_std_csv_path1=output_csv_path1,\n",
    "\n",
    "    yra_csv_path2=yra_csv_path2,\n",
    "    c_csv_path2=yrc_csv_path2,\n",
    "    output_std_csv_path2=output_csv_path2,\n",
    "\n",
    "    plot_unit_id=3\n",
    ")"
   ]
  },
  {
   "cell_type": "code",
   "execution_count": null,
   "metadata": {},
   "outputs": [],
   "source": [
    "# std1 = pd.read_csv(output_csv_path1)\n",
    "# std1\n"
   ]
  },
  {
   "cell_type": "code",
   "execution_count": null,
   "metadata": {},
   "outputs": [],
   "source": [
    "# 1. 确保您的 'minian_plotting_utils.py' 文件在当前工作目录或 Python 路径中\n",
    "#    如果没有，请确保将其放置在正确的位置，或者添加到 sys.path\n",
    "\n",
    "from minian_plot_method.plot_for_cross_regis import interactive_minian_analyzer\n",
    "import pandas as pd\n",
    "# 2. 定义您的数据文件路径\n",
    "#    请根据您的实际文件位置修改这些路径\n",
    "mappings_csv_path = os.path.join(dpath,'mappings.csv')\n",
    "cents_csv_path = os.path.join(dpath,'cents.csv')\n",
    "session1_nc_path = os.path.join(dpath,'sum\\session1\\minian.nc')\n",
    "session2_nc_path = os.path.join(dpath,'sum\\session2\\minian.nc')\n",
    "std_csv1_path = os.path.join(dpath,'OFT\\save_result\\YrA-C_Std.csv')\n",
    "std_csv2_path = os.path.join(dpath,'TST\\save_result\\YrA-C_Std.csv')\n",
    "peak_csv_path = os.path.join(dpath,'peak.csv')\n",
    "\n",
    "picture_path = os.path.join(dpath, 'pictures')\n",
    "os.makedirs(picture_path,exist_ok=True)\n",
    "param={\n",
    "        'peak_csv_path': peak_csv_path,\n",
    "        'mapping_class_csv_path': dpath,\n",
    "        'save_classification_prefix': 'c_spike_rate_classification',\n",
    "        'prominence_C': 4.0,\n",
    "        'distance_C': 5,\n",
    "        'histogram_bins': 50,\n",
    "        'max_classification_heatmaps': 100,\n",
    "        'enable_normalization': False, # Default to enable normalization\n",
    "        'plot_peak_stats_comparison': True, # Default to plot peak statistics comparison\n",
    "        'plot_classification_heatmaps_flag': True, # Default to plot classification heatmaps\n",
    "        'plot_overall_peak_histograms': True, # Default to plot overall peak histograms\n",
    "        'save_peak_stats_csv': True, # Default to save peak statistics CSV\n",
    "        'save_classification_csv': True, # Default to save classification CSV\n",
    "        'show_selected_c_traces': True, # Default to show C traces for selected unit\n",
    "        'save_individual_mapping_plots': True, # 是否批量保存每个映射对的图片\n",
    "        'individual_plots_output_base_dir': os.path.join(picture_path, 'individual_mapping_plots') # 批量保存图片的根目录\n",
    "    }\n"
   ]
  },
  {
   "cell_type": "code",
   "execution_count": null,
   "metadata": {},
   "outputs": [],
   "source": [
    "\n",
    "interactive_minian_analyzer(\n",
    "    mappings_csv_path=mappings_csv_path,\n",
    "    cents_csv_path=cents_csv_path,\n",
    "    session1_nc_path=session1_nc_path,\n",
    "    session2_nc_path=session2_nc_path,\n",
    "    std_csv_path1=std_csv1_path, # 如果有 STD 文件，请传入\n",
    "    std_csv_path2=std_csv2_path, # 如果有 STD 文件，请传入\n",
    "    c_analysis_params=param,\n",
    "\n",
    ")"
   ]
  },
  {
   "cell_type": "code",
   "execution_count": null,
   "metadata": {},
   "outputs": [],
   "source": []
  }
 ],
 "metadata": {
  "kernelspec": {
   "display_name": "minian",
   "language": "python",
   "name": "python3"
  },
  "language_info": {
   "codemirror_mode": {
    "name": "ipython",
    "version": 3
   },
   "file_extension": ".py",
   "mimetype": "text/x-python",
   "name": "python",
   "nbconvert_exporter": "python",
   "pygments_lexer": "ipython3",
   "version": "3.8.15"
  }
 },
 "nbformat": 4,
 "nbformat_minor": 4
}
